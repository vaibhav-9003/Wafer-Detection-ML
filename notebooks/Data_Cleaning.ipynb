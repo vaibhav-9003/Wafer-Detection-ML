{
 "cells": [
  {
   "cell_type": "markdown",
   "id": "cbbb6064",
   "metadata": {},
   "source": [
    "# Semiconductor Wafer Pass/Fail Prediction\n",
    "\n",
    "**Author:** Vaibhav Sharma  \n",
    "**Institution:** IIT Hyderabad (MTech, Semiconductor Materials & Devices)  \n",
    "**Focus:** Machine Learning for Semiconductor Yield Optimization  "
   ]
  },
  {
   "cell_type": "markdown",
   "id": "07345342",
   "metadata": {},
   "source": [
    "# Table of Contents\n",
    "\n",
    "1. **Data Cleaning & Visualization**\n",
    "   - Handling missing values  \n",
    "   - Correlation analysis  \n",
    "   - Outlier detection (box plots, distributions)  \n",
    "\n",
    "2. **Feature Engineering & Multicollinearity**\n",
    "   - Removing features with correlation > 0.95  \n",
    "   - Discussion of Variance Inflation Factor (VIF)  \n",
    "\n",
    "3. **Train-Test Split & Scaling**\n",
    "   - Splitting data into training and test sets  \n",
    "   - Standardizing features  \n",
    "\n",
    "4. **Handling Class Imbalance**\n",
    "   - SMOTE (Synthetic Minority Oversampling Technique)  \n",
    "   - ADASYN (Adaptive Synthetic Sampling)  \n",
    "\n",
    "5. **Model Training**\n",
    "   - Logistic Regression (baseline + tuned)  \n",
    "   - Decision Tree  \n",
    "   - XGBoost (baseline + tuned)  \n",
    "   - Dummy Classifier (baseline)  \n",
    "\n",
    "6. **Hyperparameter Tuning**\n",
    "   - GridSearchCV for Logistic Regression and XGBoost  \n",
    "   - Evaluation using Average Precision  \n",
    "\n",
    "7. **Threshold Optimization**\n",
    "   - Precision-Recall curve analysis  \n",
    "   - F2-score threshold tuning  \n",
    "\n",
    "8. **Model Comparison**\n",
    "   - Results summary table (CSV)  \n",
    "   - Performance visualization  \n",
    "\n",
    "9. **Explainability**\n",
    "   - Logistic Regression coefficients  \n",
    "   - SHAP global summary plot  \n",
    "   - SHAP local waterfall plot  \n",
    "\n",
    "10. **Deployment-Readiness**\n",
    "    - `predict_new()` function  \n",
    "    - Single wafer predictions  \n",
    "\n",
    "11. **Final Conclusion**\n",
    "    - Key results  \n",
    "    - Best models  \n",
    "    - Explainability  \n",
    "    \n"
   ]
  },
  {
   "cell_type": "markdown",
   "id": "4e9127f4",
   "metadata": {},
   "source": [
    "# DATA CLEANING"
   ]
  },
  {
   "cell_type": "code",
   "execution_count": 1,
   "id": "67aceed1",
   "metadata": {},
   "outputs": [],
   "source": [
    "import matplotlib.pyplot as plt\n",
    "import pandas as pd\n",
    "df=pd.read_csv('signal-data.csv')"
   ]
  },
  {
   "cell_type": "code",
   "execution_count": 2,
   "id": "abe47812",
   "metadata": {},
   "outputs": [
    {
     "name": "stdout",
     "output_type": "stream",
     "text": [
      "shape of dataframe is (1567, 592)\n",
      "<class 'pandas.core.frame.DataFrame'>\n",
      "RangeIndex: 1567 entries, 0 to 1566\n",
      "Columns: 592 entries, Time to Pass/Fail\n",
      "dtypes: float64(590), int64(1), object(1)\n",
      "memory usage: 7.1+ MB\n",
      "None\n"
     ]
    }
   ],
   "source": [
    "print('shape of dataframe is',df.shape)\n",
    "\n",
    "print(df.info())"
   ]
  },
  {
   "cell_type": "markdown",
   "id": "22449213",
   "metadata": {},
   "source": [
    "Observations From the Preleminary EDA: #Dataset size: (1567, 592)\n",
    "\n",
    "#1567 rows → number of samples/process steps.\n",
    "\n",
    "#592 columns → 591 features + 1 target (Pass/Fail).\n",
    "\n",
    "#Data types are likely numerical (int, float) for features and maybe object or category for the target."
   ]
  },
  {
   "cell_type": "code",
   "execution_count": 3,
   "id": "1f7c6663",
   "metadata": {},
   "outputs": [
    {
     "name": "stdout",
     "output_type": "stream",
     "text": [
      "Number of wafers passed or failed are as follows Pass/Fail\n",
      "-1    1463\n",
      " 1     104\n",
      "Name: count, dtype: int64\n"
     ]
    },
    {
     "data": {
      "text/plain": [
       "<Axes: xlabel='Pass/Fail', ylabel='count'>"
      ]
     },
     "execution_count": 3,
     "metadata": {},
     "output_type": "execute_result"
    },
    {
     "data": {
      "image/png": "[encoded data removed]",
      "text/plain": [
       "<Figure size 640x480 with 1 Axes>"
      ]
     },
     "metadata": {},
     "output_type": "display_data"
    }
   ],
   "source": [
    "target=df['Pass/Fail']\n",
    "print('Number of wafers passed or failed are as follows',target.value_counts())\n",
    "#Lets Visualise it \n",
    "import seaborn as sns\n",
    "sns.countplot(data=df,x=target,hue=target)"
   ]
  },
  {
   "cell_type": "markdown",
   "id": "bec838de",
   "metadata": {},
   "source": [
    "###### Observation\n",
    "We can see that the target value is skewed twards -1 ie Pass.\n",
    "around 93.4% wafers passed\n",
    "Thus we have to test our models not just on accuracy but other metrices like Precision,recall,F1 score etc"
   ]
  },
  {
   "cell_type": "code",
   "execution_count": 4,
   "id": "172ff747",
   "metadata": {},
   "outputs": [],
   "source": [
    "missing_counts=df.isna().sum()\n",
    "missing_counts=missing_counts[missing_counts>0] # only viewing columns which have more than 0 missing values\n",
    "mc=missing_counts.sort_values(ascending=False) #to see columns having max no of missing values"
   ]
  },
  {
   "cell_type": "markdown",
   "id": "77408dc4",
   "metadata": {},
   "source": [
    "Some Columns have a lot of missing values so we have to drop them,rest we can impute.\n",
    "We will set up a threshold value ie above that percentage of missing data,we will drop the cell"
   ]
  },
  {
   "cell_type": "code",
   "execution_count": 5,
   "id": "41d63b3f",
   "metadata": {},
   "outputs": [
    {
     "name": "stdout",
     "output_type": "stream",
     "text": [
      "Columns dropped Index(['292', '157', '158', '293', '492', '220', '358', '85', '516', '517',\n",
      "       '382', '111', '383', '384', '246', '244', '245', '110', '518', '109',\n",
      "       '579', '581', '578', '580', '346', '72', '73', '345', '247', '385',\n",
      "       '112', '519'],\n",
      "      dtype='object')\n",
      "Shape of DataFrame after Dropping columns (1567, 592)\n"
     ]
    }
   ],
   "source": [
    "threshold=0.6\n",
    "columns_to_drop=mc[mc/len(mc)>threshold].index #gives the indics of columns who have more than 60% missing values\n",
    "#df.drop(columns_to_drop,inplace=True,axis=1)  \n",
    "print('Columns dropped',columns_to_drop)\n",
    "print('Shape of DataFrame after Dropping columns',df.shape)\n",
    "#also we dont need time feature so lets drop that too\n",
    "df.drop('Time',axis=1,inplace=True)"
   ]
  },
  {
   "cell_type": "markdown",
   "id": "a4b23462",
   "metadata": {},
   "source": [
    "Lets Handle missing values for other columns"
   ]
  },
  {
   "cell_type": "code",
   "execution_count": 8,
   "id": "20ea837e",
   "metadata": {},
   "outputs": [
    {
     "name": "stdout",
     "output_type": "stream",
     "text": [
      "number of numerical features 591\n",
      "number of categorical features 0\n"
     ]
    }
   ],
   "source": [
    "numerical_features=[feature for feature in df.columns if df[feature].dtypes!='O']\n",
    "cat_features=[feature for feature in df.columns if df[feature].dtypes=='O']\n",
    "print('number of numerical features',len(numerical_features))\n",
    "print('number of categorical features',len(cat_features))\n"
   ]
  },
  {
   "cell_type": "code",
   "execution_count": 9,
   "id": "213250d9",
   "metadata": {},
   "outputs": [],
   "source": [
    "df=df.fillna(df[numerical_features].mean())"
   ]
  },
  {
   "cell_type": "markdown",
   "id": "e868e135",
   "metadata": {},
   "source": [
    "##### Visualise the class imbalence"
   ]
  },
  {
   "cell_type": "code",
   "execution_count": 10,
   "id": "477038e1",
   "metadata": {},
   "outputs": [
    {
     "data": {
      "image/png": "[encoded data removed]",
      "text/plain": [
       "<Figure size 640x480 with 1 Axes>"
      ]
     },
     "metadata": {},
     "output_type": "display_data"
    }
   ],
   "source": [
    "df['Pass/Fail'].value_counts().plot(kind='bar')\n",
    "plt.title(\"Target Class Distribution (Before SMOTE)\")\n",
    "plt.show()\n"
   ]
  },
  {
   "cell_type": "markdown",
   "id": "2d6f99d2",
   "metadata": {},
   "source": [
    "#### Skewness & Variance Analysis\n",
    "Skewness tells us how asymmetric a distribution is.\n",
    "\n",
    "#0 → symmetric (like normal distribution)\n",
    "\n",
    "#>0 → right-skewed (tail on right)\n",
    "\n",
    "#<0 → left-skewed (tail on left)"
   ]
  },
  {
   "cell_type": "code",
   "execution_count": 11,
   "id": "fecd299e",
   "metadata": {},
   "outputs": [
    {
     "name": "stdout",
     "output_type": "stream",
     "text": [
      "Top 20 most right-skewed features:\n",
      " 209    39.585205\n",
      "74     39.585205\n",
      "478    39.585205\n",
      "342    39.585205\n",
      "347    39.585205\n",
      "206    39.585205\n",
      "390    39.562779\n",
      "252    39.560364\n",
      "287    39.559150\n",
      "152    39.557423\n",
      "516    39.499588\n",
      "382    39.491841\n",
      "244    39.491102\n",
      "524    38.854591\n",
      "518    38.711072\n",
      "384    38.649705\n",
      "283    38.647193\n",
      "246    38.563405\n",
      "148    38.562024\n",
      "117    38.005963\n",
      "dtype: float64\n",
      "\n",
      "Top 20 most left-skewed features:\n",
      " 20     -2.805058\n",
      "56     -2.845635\n",
      "68     -2.902413\n",
      "104    -3.109224\n",
      "116    -3.285151\n",
      "128    -5.379193\n",
      "54     -5.382071\n",
      "119    -5.382909\n",
      "26     -6.019993\n",
      "36     -6.417518\n",
      "87     -6.450729\n",
      "53     -7.218651\n",
      "570    -8.658927\n",
      "72     -9.774366\n",
      "19     -9.862255\n",
      "11    -10.221613\n",
      "112   -12.097650\n",
      "7     -12.951734\n",
      "17    -22.191121\n",
      "109   -34.955356\n",
      "dtype: float64\n",
      "Top 20 highest variance features:\n",
      " 162    4.289442e+07\n",
      "161    1.794825e+07\n",
      "297    1.039974e+07\n",
      "24     8.414849e+06\n",
      "296    3.896083e+06\n",
      "23     1.902415e+06\n",
      "159    9.651394e+05\n",
      "21     3.924042e+05\n",
      "160    3.299829e+05\n",
      "204    3.181159e+05\n",
      "140    2.546727e+05\n",
      "294    2.272861e+05\n",
      "3      1.933474e+05\n",
      "225    1.815256e+05\n",
      "90     1.519494e+05\n",
      "511    1.085400e+05\n",
      "419    1.057814e+05\n",
      "499    1.053417e+05\n",
      "500    1.041980e+05\n",
      "67     9.419537e+04\n",
      "dtype: float64\n"
     ]
    }
   ],
   "source": [
    "#Lets find out top 20 most skewed features\n",
    "skewed_features = df[numerical_features].skew().sort_values(ascending=False)\n",
    "print(\"Top 20 most right-skewed features:\\n\", skewed_features.head(20))\n",
    "print(\"\\nTop 20 most left-skewed features:\\n\", skewed_features.tail(20))\n",
    "#Similarly we can find out top 20 features with highest varience\n",
    "variance = df[numerical_features].var().sort_values(ascending=False)\n",
    "print(\"Top 20 highest variance features:\\n\", variance.head(20))"
   ]
  },
  {
   "cell_type": "code",
   "execution_count": 13,
   "id": "4f633186",
   "metadata": {},
   "outputs": [],
   "source": [
    "df['Pass/Fail']=df['Pass/Fail'].map({-1:0,1:1})"
   ]
  },
  {
   "cell_type": "code",
   "execution_count": 14,
   "id": "4e28d499",
   "metadata": {},
   "outputs": [],
   "source": [
    "df.to_csv(\"cleaned_data.csv\", index=False)"
   ]
  },
  {
   "cell_type": "code",
   "execution_count": null,
   "id": "c60d168e",
   "metadata": {},
   "outputs": [],
   "source": []
  }
 ],
 "metadata": {
  "kernelspec": {
   "display_name": "anaconda-2025.04-py3.11",
   "language": "python",
   "name": "conda-env-anaconda-2025.04-py3.11"
  },
  "language_info": {
   "codemirror_mode": {
    "name": "ipython",
    "version": 3
   },
   "file_extension": ".py",
   "mimetype": "text/x-python",
   "name": "python",
   "nbconvert_exporter": "python",
   "pygments_lexer": "ipython3",
   "version": "3.11.11"
  }
 },
 "nbformat": 4,
 "nbformat_minor": 5
}
